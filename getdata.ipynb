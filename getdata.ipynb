{
 "cells": [
  {
   "cell_type": "code",
   "execution_count": 2,
   "metadata": {},
   "outputs": [],
   "source": [
    "# Mencionando as bibliotecas do Facebook\n",
    "\n",
    "from facebook_business.adobjects.adaccount import AdAccount\n",
    "from facebook_business.adobjects.adsinsights import AdsInsights\n",
    "from facebook_business.api import FacebookAdsApi\n",
    "\n",
    "# Importando a biblioteca Pandas para tratar e exportar os dados em planilha\n",
    "\n",
    "import pandas as pd"
   ]
  },
  {
   "cell_type": "code",
   "execution_count": 3,
   "metadata": {},
   "outputs": [
    {
     "data": {
      "text/plain": [
       "<facebook_business.api.FacebookAdsApi at 0x1a1771662f0>"
      ]
     },
     "execution_count": 3,
     "metadata": {},
     "output_type": "execute_result"
    }
   ],
   "source": [
    "# Definindo as chaves do App para processar as requisições da API\n",
    "\n",
    "access_token = 'EAAFIZA49DnfIBAOxCQ588NP1faGej6I0Ia25kNUxVw4hCkrhZB0Q5Xv8QWQhqEz1xvhTTG7z5SqfvFIaLdkwCgUZC0gFvN5Mp7EFv9YOjw44g3SrXdb3csqRErZB1lSw7ojo0Sd7jMGFdvrEnqPS8GwOPdJEaZByGMGorlrvapZAzbwGGAgI9iqJ0pefmaKLwZD'\n",
    "ad_account_id = 'act_539429070963780'\n",
    "app_secret = 'f0dd5e05667d8855201a49ec5fdb2f82'\n",
    "app_id = '361084599115250'\n",
    "FacebookAdsApi.init(access_token=access_token)"
   ]
  },
  {
   "cell_type": "code",
   "execution_count": 4,
   "metadata": {},
   "outputs": [],
   "source": [
    "# Escrevendo as informações que queremos puxar (consultar documentação da API)\n",
    "\n",
    "fields = [\n",
    "    'reach',\n",
    "    'spend',\n",
    "    'impressions',\n",
    "    'frequency',\n",
    "]\n",
    "params = {\n",
    "    'time_range': {'since':'2022-03-09','until':'2022-04-08'},\n",
    "    'filtering': [],\n",
    "    'level': 'campaign',\n",
    "}"
   ]
  },
  {
   "cell_type": "code",
   "execution_count": 14,
   "metadata": {},
   "outputs": [
    {
     "data": {
      "text/plain": [
       "[]"
      ]
     },
     "execution_count": 14,
     "metadata": {},
     "output_type": "execute_result"
    }
   ],
   "source": [
    "# Mostrando os resultados\n",
    "\n",
    "AdAccount(ad_account_id).get_insights(\n",
    "    fields=fields,\n",
    "    params=params,\n",
    ")"
   ]
  },
  {
   "cell_type": "code",
   "execution_count": 10,
   "metadata": {},
   "outputs": [],
   "source": [
    "# Definindo qual é o DataFrame que estamos trabalhando\n",
    "\n",
    "df = pd.DataFrame({AdAccount(ad_account_id).get_insights(\n",
    "    fields=fields,\n",
    "    params=params,\n",
    ")})"
   ]
  },
  {
   "cell_type": "code",
   "execution_count": 12,
   "metadata": {},
   "outputs": [],
   "source": [
    "# Exportando para CSV\n",
    "\n",
    "csv = df.to_csv(index=False)"
   ]
  }
 ],
 "metadata": {
  "interpreter": {
   "hash": "a0824594b76c6eb337041c006043f08c20c2e348c2e1d37e3e2d96eacadf647b"
  },
  "kernelspec": {
   "display_name": "Python 3.10.4 64-bit",
   "language": "python",
   "name": "python3"
  },
  "language_info": {
   "codemirror_mode": {
    "name": "ipython",
    "version": 3
   },
   "file_extension": ".py",
   "mimetype": "text/x-python",
   "name": "python",
   "nbconvert_exporter": "python",
   "pygments_lexer": "ipython3",
   "version": "3.10.4"
  },
  "orig_nbformat": 4
 },
 "nbformat": 4,
 "nbformat_minor": 2
}
