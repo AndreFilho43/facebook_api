{
 "cells": [
  {
   "cell_type": "code",
   "execution_count": 264,
   "metadata": {},
   "outputs": [],
   "source": [
    "# Mencionando as bibliotecas do Facebook\n",
    "\n",
    "from facebook_business.adobjects.adaccount import AdAccount\n",
    "from facebook_business.adobjects.adsinsights import AdsInsights\n",
    "from facebook_business.api import FacebookAdsApi\n",
    "\n",
    "# Importando biblioteca do Google Cloud\n",
    "\n",
    "from google.cloud import bigquery\n",
    "\n",
    "# Importando a biblioteca Pandas para tratar e exportar os dados em planilha e importando o Google Cloud para enviar os dados para um banco de dados SQL\n",
    "\n",
    "import pandas as pd\n",
    "import datetime\n",
    "import pytz\n",
    "import os\n",
    "\n",
    "os.environ[\"GOOGLE_APPLICATION_CREDENTIALS\"] = \"C:\\getdata-345817-cc9cab43bb92.json\"\n",
    "\n"
   ]
  },
  {
   "cell_type": "code",
   "execution_count": 259,
   "metadata": {},
   "outputs": [],
   "source": [
    "# Definindo as chaves do App para processar as requisições da API\n",
    "\n",
    "access_token = ''\n",
    "ad_account_id = ''\n",
    "app_secret = ''\n",
    "app_id = ''\n",
    "FacebookAdsApi.init(access_token=access_token)\n",
    "\n"
   ]
  },
  {
   "cell_type": "code",
   "execution_count": 266,
   "metadata": {},
   "outputs": [],
   "source": [
    "# Escrevendo as informações que queremos puxar (consultar documentação da API)\n",
    "\n",
    "fields = [\n",
    "    'ad_name',\n",
    "    'reach',\n",
    "    'spend',\n",
    "    'impressions',\n",
    "    'frequency',\n",
    "    'campaign_name',\n",
    "    'conversions',\n",
    "    'cpc',\n",
    "    'cpm',\n",
    "    'ctr',\n",
    "    'objective',\n",
    "    'clicks',\n",
    "    'cost_per_conversion',\n",
    "    'inline_post_engagement',\n",
    "]\n",
    "params = {\n",
    "    'date_presets' : 'lifetime',\n",
    "    'time_increment' : 'monthly',\n",
    "    'filtering': [],\n",
    "    'level': 'ad',\n",
    "    'action_breakdowns': 'action_type',\n",
    "    'export_columns': [],\n",
    "    'export_format' : 'csv',\n",
    "    'export_name' : 'beetools',\n",
    "}"
   ]
  },
  {
   "cell_type": "code",
   "execution_count": null,
   "metadata": {},
   "outputs": [],
   "source": [
    "# Mostrando os resultados\n",
    "\n",
    "AdAccount(ad_account_id).get_insights(\n",
    "    fields=fields,\n",
    "    params=params,\n",
    ")"
   ]
  },
  {
   "cell_type": "code",
   "execution_count": 197,
   "metadata": {},
   "outputs": [],
   "source": [
    "# Definindo qual é o DataFrame que estamos trabalhando\n",
    "\n",
    "df = pd.DataFrame(AdAccount(ad_account_id).get_insights(fields, params))"
   ]
  },
  {
   "cell_type": "code",
   "execution_count": null,
   "metadata": {},
   "outputs": [],
   "source": [
    "df"
   ]
  },
  {
   "cell_type": "code",
   "execution_count": 199,
   "metadata": {},
   "outputs": [],
   "source": [
    "# Exportando para CSV\n",
    "\n",
    "csv = df.to_csv(index=False)\n",
    "df.to_csv(\"beetools.csv\")"
   ]
  },
  {
   "cell_type": "code",
   "execution_count": 200,
   "metadata": {},
   "outputs": [],
   "source": [
    "# Exportando para Excel\n",
    "\n",
    "datatoexcel = pd.ExcelWriter('beetols.xlsx')\n",
    "df.to_excel(datatoexcel)\n",
    "datatoexcel.save()"
   ]
  },
  {
   "cell_type": "code",
   "execution_count": 267,
   "metadata": {},
   "outputs": [
    {
     "name": "stdout",
     "output_type": "stream",
     "text": [
      "Loaded 86 rows and 15 columns to getdata-345817.get_data.fbinsights\n"
     ]
    }
   ],
   "source": [
    "# Escrevendo para o BigQuery\n",
    "\n",
    "client = bigquery.Client()\n",
    "\n",
    "table_id = \"getdata-345817.get_data.fbinsights\"\n",
    "\n",
    "job = client.load_table_from_dataframe(\n",
    "    df, table_id\n",
    ")  \n",
    "job.result()  \n",
    "\n",
    "table = client.get_table(table_id)\n",
    "print(\n",
    "    \"Loaded {} rows and {} columns to {}\".format(\n",
    "        table.num_rows, len(table.schema), table_id\n",
    "    )\n",
    ")"
   ]
  }
 ],
 "metadata": {
  "interpreter": {
   "hash": "a0824594b76c6eb337041c006043f08c20c2e348c2e1d37e3e2d96eacadf647b"
  },
  "kernelspec": {
   "display_name": "Python 3.10.4 64-bit",
   "language": "python",
   "name": "python3"
  },
  "language_info": {
   "codemirror_mode": {
    "name": "ipython",
    "version": 3
   },
   "file_extension": ".py",
   "mimetype": "text/x-python",
   "name": "python",
   "nbconvert_exporter": "python",
   "pygments_lexer": "ipython3",
   "version": "3.10.4"
  },
  "orig_nbformat": 4
 },
 "nbformat": 4,
 "nbformat_minor": 2
}
